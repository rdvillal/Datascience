{
 "cells": [
  {
   "cell_type": "markdown",
   "id": "3a8c5b94",
   "metadata": {},
   "source": [
    "## Valores atípicos (outliers)\n",
    "\n",
    "Aunque existen fórmulas estadísticas que involucran el cálculo de medias y desviaciones estándar hay que recordar que a veces este tipo de cálculos asumen que la distribución de datos es normal, en la práctica esto requiere mucho trabajo comprobarlo, por lo tanto una forma rápida de encontrar valores atípicos en los datos es por medio de un método visual, graficando histogramas o diagramas de caja y bigotes"
   ]
  },
  {
   "cell_type": "code",
   "execution_count": 1,
   "id": "53ff06a3",
   "metadata": {},
   "outputs": [
    {
     "data": {
      "text/html": [
       "<div>\n",
       "<style scoped>\n",
       "    .dataframe tbody tr th:only-of-type {\n",
       "        vertical-align: middle;\n",
       "    }\n",
       "\n",
       "    .dataframe tbody tr th {\n",
       "        vertical-align: top;\n",
       "    }\n",
       "\n",
       "    .dataframe thead th {\n",
       "        text-align: right;\n",
       "    }\n",
       "</style>\n",
       "<table border=\"1\" class=\"dataframe\">\n",
       "  <thead>\n",
       "    <tr style=\"text-align: right;\">\n",
       "      <th></th>\n",
       "      <th>ID del Tweet</th>\n",
       "      <th>Enlace permanente de Tweet</th>\n",
       "      <th>Texto del Tweet</th>\n",
       "      <th>hora</th>\n",
       "      <th>impresiones</th>\n",
       "      <th>interacciones</th>\n",
       "      <th>tasa de interacción</th>\n",
       "      <th>retweets</th>\n",
       "      <th>respuestas</th>\n",
       "      <th>me gusta</th>\n",
       "      <th>...</th>\n",
       "      <th>clics de etiquetas promocionado</th>\n",
       "      <th>ampliaciones de detalles promocionado</th>\n",
       "      <th>clics en enlaces permanentes promocionado</th>\n",
       "      <th>Se abre la aplicación promocionado</th>\n",
       "      <th>descargas de app promocionado</th>\n",
       "      <th>seguimientos promocionado</th>\n",
       "      <th>enviar Tweet por correo electrónico promocionado</th>\n",
       "      <th>marcar teléfono promocionado</th>\n",
       "      <th>visualizaciones multimedia promocionado</th>\n",
       "      <th>interacciones con el contenido multimedia promocionado</th>\n",
       "    </tr>\n",
       "  </thead>\n",
       "  <tbody>\n",
       "    <tr>\n",
       "      <th>0</th>\n",
       "      <td>1471230310914433032</td>\n",
       "      <td>https://twitter.com/rdvillal/status/1471230310...</td>\n",
       "      <td>Yo creía que aquella mujer estaba loca. Luego ...</td>\n",
       "      <td>2021-12-15 21:26 +0000</td>\n",
       "      <td>11.0</td>\n",
       "      <td>0.0</td>\n",
       "      <td>0.0</td>\n",
       "      <td>0.0</td>\n",
       "      <td>0.0</td>\n",
       "      <td>0.0</td>\n",
       "      <td>...</td>\n",
       "      <td>-</td>\n",
       "      <td>-</td>\n",
       "      <td>-</td>\n",
       "      <td>-</td>\n",
       "      <td>-</td>\n",
       "      <td>-</td>\n",
       "      <td>-</td>\n",
       "      <td>-</td>\n",
       "      <td>-</td>\n",
       "      <td>-</td>\n",
       "    </tr>\n",
       "    <tr>\n",
       "      <th>1</th>\n",
       "      <td>1468299003443953666</td>\n",
       "      <td>https://twitter.com/rdvillal/status/1468299003...</td>\n",
       "      <td>Allá, de donde venimos ahora, al menos te entr...</td>\n",
       "      <td>2021-12-07 19:18 +0000</td>\n",
       "      <td>68.0</td>\n",
       "      <td>0.0</td>\n",
       "      <td>0.0</td>\n",
       "      <td>0.0</td>\n",
       "      <td>0.0</td>\n",
       "      <td>0.0</td>\n",
       "      <td>...</td>\n",
       "      <td>-</td>\n",
       "      <td>-</td>\n",
       "      <td>-</td>\n",
       "      <td>-</td>\n",
       "      <td>-</td>\n",
       "      <td>-</td>\n",
       "      <td>-</td>\n",
       "      <td>-</td>\n",
       "      <td>-</td>\n",
       "      <td>-</td>\n",
       "    </tr>\n",
       "    <tr>\n",
       "      <th>2</th>\n",
       "      <td>1468297844306161673</td>\n",
       "      <td>https://twitter.com/rdvillal/status/1468297844...</td>\n",
       "      <td>Hay pueblos que saben a desdicha. Se les conoc...</td>\n",
       "      <td>2021-12-07 19:14 +0000</td>\n",
       "      <td>63.0</td>\n",
       "      <td>0.0</td>\n",
       "      <td>0.0</td>\n",
       "      <td>0.0</td>\n",
       "      <td>0.0</td>\n",
       "      <td>0.0</td>\n",
       "      <td>...</td>\n",
       "      <td>-</td>\n",
       "      <td>-</td>\n",
       "      <td>-</td>\n",
       "      <td>-</td>\n",
       "      <td>-</td>\n",
       "      <td>-</td>\n",
       "      <td>-</td>\n",
       "      <td>-</td>\n",
       "      <td>-</td>\n",
       "      <td>-</td>\n",
       "    </tr>\n",
       "  </tbody>\n",
       "</table>\n",
       "<p>3 rows × 40 columns</p>\n",
       "</div>"
      ],
      "text/plain": [
       "          ID del Tweet                         Enlace permanente de Tweet  \\\n",
       "0  1471230310914433032  https://twitter.com/rdvillal/status/1471230310...   \n",
       "1  1468299003443953666  https://twitter.com/rdvillal/status/1468299003...   \n",
       "2  1468297844306161673  https://twitter.com/rdvillal/status/1468297844...   \n",
       "\n",
       "                                     Texto del Tweet                    hora  \\\n",
       "0  Yo creía que aquella mujer estaba loca. Luego ...  2021-12-15 21:26 +0000   \n",
       "1  Allá, de donde venimos ahora, al menos te entr...  2021-12-07 19:18 +0000   \n",
       "2  Hay pueblos que saben a desdicha. Se les conoc...  2021-12-07 19:14 +0000   \n",
       "\n",
       "   impresiones  interacciones  tasa de interacción  retweets  respuestas  \\\n",
       "0         11.0            0.0                  0.0       0.0         0.0   \n",
       "1         68.0            0.0                  0.0       0.0         0.0   \n",
       "2         63.0            0.0                  0.0       0.0         0.0   \n",
       "\n",
       "   me gusta  ...  clics de etiquetas promocionado  \\\n",
       "0       0.0  ...                                -   \n",
       "1       0.0  ...                                -   \n",
       "2       0.0  ...                                -   \n",
       "\n",
       "   ampliaciones de detalles promocionado  \\\n",
       "0                                      -   \n",
       "1                                      -   \n",
       "2                                      -   \n",
       "\n",
       "   clics en enlaces permanentes promocionado  \\\n",
       "0                                          -   \n",
       "1                                          -   \n",
       "2                                          -   \n",
       "\n",
       "   Se abre la aplicación promocionado  descargas de app promocionado  \\\n",
       "0                                   -                              -   \n",
       "1                                   -                              -   \n",
       "2                                   -                              -   \n",
       "\n",
       "   seguimientos promocionado  \\\n",
       "0                          -   \n",
       "1                          -   \n",
       "2                          -   \n",
       "\n",
       "   enviar Tweet por correo electrónico promocionado  \\\n",
       "0                                                 -   \n",
       "1                                                 -   \n",
       "2                                                 -   \n",
       "\n",
       "   marcar teléfono promocionado  visualizaciones multimedia promocionado  \\\n",
       "0                             -                                        -   \n",
       "1                             -                                        -   \n",
       "2                             -                                        -   \n",
       "\n",
       "   interacciones con el contenido multimedia promocionado  \n",
       "0                                                  -       \n",
       "1                                                  -       \n",
       "2                                                  -       \n",
       "\n",
       "[3 rows x 40 columns]"
      ]
     },
     "execution_count": 1,
     "metadata": {},
     "output_type": "execute_result"
    }
   ],
   "source": [
    "# Con datos generados de Twitter mostraré una manera rápida de encontrar valores atípicos en una variable numérica de un dataset\n",
    "import pandas as pd\n",
    "\n",
    "# Primero leemos los datos del archivo de texto. Se tomará la variable numérica 'impresiones' para hacer la demostración\n",
    "df = pd.read_csv('C:/HOME/DATA ANALYSIS/tweet_activity_metrics_rdvillal_20211118_20211216_es.csv')\n",
    "df.head(3)"
   ]
  },
  {
   "cell_type": "markdown",
   "id": "82cde694",
   "metadata": {},
   "source": [
    "# 1. Graficando un histograma de la variable transformada\n",
    "\n",
    "podemos ver algunas estadísticas descriptivas para ir comprendiendo la variable. Notemos que el valor mínimo es 11 y el máximo 17448, con una media de 419.05 y una desviación estándar de 2345.86. El percentil 75 tiene un valor de 91.5, es decir que el 75% de los datos reflejan valores inferiores a 91.5 en esta variable"
   ]
  },
  {
   "cell_type": "code",
   "execution_count": 2,
   "id": "e60090f2",
   "metadata": {},
   "outputs": [
    {
     "data": {
      "text/plain": [
       "count       55.000000\n",
       "mean       419.054545\n",
       "std       2345.864552\n",
       "min         11.000000\n",
       "25%         43.500000\n",
       "50%         68.000000\n",
       "75%         91.500000\n",
       "max      17448.000000\n",
       "Name: impresiones, dtype: float64"
      ]
     },
     "execution_count": 2,
     "metadata": {},
     "output_type": "execute_result"
    }
   ],
   "source": [
    "df['impresiones'].describe()"
   ]
  },
  {
   "cell_type": "code",
   "execution_count": 4,
   "id": "0ca34ff9",
   "metadata": {},
   "outputs": [
    {
     "data": {
      "text/plain": [
       "<AxesSubplot:xlabel='impresiones', ylabel='Count'>"
      ]
     },
     "execution_count": 4,
     "metadata": {},
     "output_type": "execute_result"
    },
    {
     "data": {
      "image/png": "[encoded data removed]",
      "text/plain": [
       "<Figure size 432x288 with 1 Axes>"
      ]
     },
     "metadata": {
      "needs_background": "light"
     },
     "output_type": "display_data"
    }
   ],
   "source": [
    "# intentemos ahora graficar un histograma con esta variable, para ello utilizaré la librería seaborn\n",
    "import seaborn as sbs\n",
    "\n",
    "sbs.histplot(df['impresiones'])"
   ]
  },
  {
   "cell_type": "markdown",
   "id": "5d74ff55",
   "metadata": {},
   "source": [
    "Como puede verse en la gráfica, los altos valores que toma la variable *impresiones* distorsiona la escala y hace difícil entender los datos al graficarlos así, por lo tanto, usaré la función de logaritmo natural **np.log()** para transformar los valores y obtener una mejor visualización. Esta función se encuentra en la librería **Numpy**"
   ]
  },
  {
   "cell_type": "code",
   "execution_count": 5,
   "id": "6774b897",
   "metadata": {},
   "outputs": [
    {
     "data": {
      "text/plain": [
       "<AxesSubplot:xlabel='impresiones', ylabel='Count'>"
      ]
     },
     "execution_count": 5,
     "metadata": {},
     "output_type": "execute_result"
    },
    {
     "data": {
      "image/png": "[encoded data removed]",
      "text/plain": [
       "<Figure size 432x288 with 1 Axes>"
      ]
     },
     "metadata": {
      "needs_background": "light"
     },
     "output_type": "display_data"
    }
   ],
   "source": [
    "import numpy as np\n",
    "\n",
    "sbs.histplot(np.log(df['impresiones']))"
   ]
  },
  {
   "cell_type": "markdown",
   "id": "618fa7a5",
   "metadata": {},
   "source": [
    "Con la transformación ya puede observarse un gráfico que facilita la detección de valores atípicos. Sin embargo, ya que he hecho dicha transformación, para obtener el umbral deseado puede aplicarse la función inversa **exp()** sobre los valores observados en la gráfica anterior. Para tener una referencia podría partirse del **exp(7)**"
   ]
  },
  {
   "cell_type": "code",
   "execution_count": 6,
   "id": "37b815ae",
   "metadata": {},
   "outputs": [
    {
     "data": {
      "text/plain": [
       "1096.6331584284585"
      ]
     },
     "execution_count": 6,
     "metadata": {},
     "output_type": "execute_result"
    }
   ],
   "source": [
    "np.exp(7)"
   ]
  },
  {
   "cell_type": "code",
   "execution_count": 7,
   "id": "c6cb5242",
   "metadata": {},
   "outputs": [
    {
     "data": {
      "text/html": [
       "<div>\n",
       "<style scoped>\n",
       "    .dataframe tbody tr th:only-of-type {\n",
       "        vertical-align: middle;\n",
       "    }\n",
       "\n",
       "    .dataframe tbody tr th {\n",
       "        vertical-align: top;\n",
       "    }\n",
       "\n",
       "    .dataframe thead th {\n",
       "        text-align: right;\n",
       "    }\n",
       "</style>\n",
       "<table border=\"1\" class=\"dataframe\">\n",
       "  <thead>\n",
       "    <tr style=\"text-align: right;\">\n",
       "      <th></th>\n",
       "      <th>ID del Tweet</th>\n",
       "      <th>Enlace permanente de Tweet</th>\n",
       "      <th>Texto del Tweet</th>\n",
       "      <th>hora</th>\n",
       "      <th>impresiones</th>\n",
       "      <th>interacciones</th>\n",
       "      <th>tasa de interacción</th>\n",
       "      <th>retweets</th>\n",
       "      <th>respuestas</th>\n",
       "      <th>me gusta</th>\n",
       "      <th>...</th>\n",
       "      <th>clics de etiquetas promocionado</th>\n",
       "      <th>ampliaciones de detalles promocionado</th>\n",
       "      <th>clics en enlaces permanentes promocionado</th>\n",
       "      <th>Se abre la aplicación promocionado</th>\n",
       "      <th>descargas de app promocionado</th>\n",
       "      <th>seguimientos promocionado</th>\n",
       "      <th>enviar Tweet por correo electrónico promocionado</th>\n",
       "      <th>marcar teléfono promocionado</th>\n",
       "      <th>visualizaciones multimedia promocionado</th>\n",
       "      <th>interacciones con el contenido multimedia promocionado</th>\n",
       "    </tr>\n",
       "  </thead>\n",
       "  <tbody>\n",
       "    <tr>\n",
       "      <th>41</th>\n",
       "      <td>1461742522171068419</td>\n",
       "      <td>https://twitter.com/rdvillal/status/1461742522...</td>\n",
       "      <td>@PatriciaLinar16 @AlexiaRivasG1 Para dejar de ...</td>\n",
       "      <td>2021-11-19 17:05 +0000</td>\n",
       "      <td>1361.0</td>\n",
       "      <td>33.0</td>\n",
       "      <td>0.024247</td>\n",
       "      <td>1.0</td>\n",
       "      <td>2.0</td>\n",
       "      <td>10.0</td>\n",
       "      <td>...</td>\n",
       "      <td>-</td>\n",
       "      <td>-</td>\n",
       "      <td>-</td>\n",
       "      <td>-</td>\n",
       "      <td>-</td>\n",
       "      <td>-</td>\n",
       "      <td>-</td>\n",
       "      <td>-</td>\n",
       "      <td>-</td>\n",
       "      <td>-</td>\n",
       "    </tr>\n",
       "    <tr>\n",
       "      <th>51</th>\n",
       "      <td>1461184555856150531</td>\n",
       "      <td>https://twitter.com/rdvillal/status/1461184555...</td>\n",
       "      <td>@La_Grumos @schippers22 Admiro la valentía con...</td>\n",
       "      <td>2021-11-18 04:08 +0000</td>\n",
       "      <td>17448.0</td>\n",
       "      <td>241.0</td>\n",
       "      <td>0.013812</td>\n",
       "      <td>1.0</td>\n",
       "      <td>5.0</td>\n",
       "      <td>144.0</td>\n",
       "      <td>...</td>\n",
       "      <td>-</td>\n",
       "      <td>-</td>\n",
       "      <td>-</td>\n",
       "      <td>-</td>\n",
       "      <td>-</td>\n",
       "      <td>-</td>\n",
       "      <td>-</td>\n",
       "      <td>-</td>\n",
       "      <td>-</td>\n",
       "      <td>-</td>\n",
       "    </tr>\n",
       "  </tbody>\n",
       "</table>\n",
       "<p>2 rows × 40 columns</p>\n",
       "</div>"
      ],
      "text/plain": [
       "           ID del Tweet                         Enlace permanente de Tweet  \\\n",
       "41  1461742522171068419  https://twitter.com/rdvillal/status/1461742522...   \n",
       "51  1461184555856150531  https://twitter.com/rdvillal/status/1461184555...   \n",
       "\n",
       "                                      Texto del Tweet                    hora  \\\n",
       "41  @PatriciaLinar16 @AlexiaRivasG1 Para dejar de ...  2021-11-19 17:05 +0000   \n",
       "51  @La_Grumos @schippers22 Admiro la valentía con...  2021-11-18 04:08 +0000   \n",
       "\n",
       "    impresiones  interacciones  tasa de interacción  retweets  respuestas  \\\n",
       "41       1361.0           33.0             0.024247       1.0         2.0   \n",
       "51      17448.0          241.0             0.013812       1.0         5.0   \n",
       "\n",
       "    me gusta  ...  clics de etiquetas promocionado  \\\n",
       "41      10.0  ...                                -   \n",
       "51     144.0  ...                                -   \n",
       "\n",
       "    ampliaciones de detalles promocionado  \\\n",
       "41                                      -   \n",
       "51                                      -   \n",
       "\n",
       "    clics en enlaces permanentes promocionado  \\\n",
       "41                                          -   \n",
       "51                                          -   \n",
       "\n",
       "    Se abre la aplicación promocionado  descargas de app promocionado  \\\n",
       "41                                   -                              -   \n",
       "51                                   -                              -   \n",
       "\n",
       "    seguimientos promocionado  \\\n",
       "41                          -   \n",
       "51                          -   \n",
       "\n",
       "    enviar Tweet por correo electrónico promocionado  \\\n",
       "41                                                 -   \n",
       "51                                                 -   \n",
       "\n",
       "    marcar teléfono promocionado  visualizaciones multimedia promocionado  \\\n",
       "41                             -                                        -   \n",
       "51                             -                                        -   \n",
       "\n",
       "    interacciones con el contenido multimedia promocionado  \n",
       "41                                                  -       \n",
       "51                                                  -       \n",
       "\n",
       "[2 rows x 40 columns]"
      ]
     },
     "execution_count": 7,
     "metadata": {},
     "output_type": "execute_result"
    }
   ],
   "source": [
    "# ahora filtramos en el dataFrame original\n",
    "df[df['impresiones']>1096.63]"
   ]
  },
  {
   "cell_type": "markdown",
   "id": "49e89055",
   "metadata": {},
   "source": [
    "# 2. Con un diagrama de Caja y bigotes (BoxPlot)\n",
    "\n",
    "Otro gráfico que pudo haberse utilizado para lograr esto es el diagrama de caja y bigotes. El procedimiento a realizar es el mismo para evitar que los valores atípicos distorsionen la escala de la visualización.  "
   ]
  },
  {
   "cell_type": "code",
   "execution_count": 9,
   "id": "88e5f77f",
   "metadata": {},
   "outputs": [
    {
     "data": {
      "text/plain": [
       "<AxesSubplot:ylabel='impresiones'>"
      ]
     },
     "execution_count": 9,
     "metadata": {},
     "output_type": "execute_result"
    },
    {
     "data": {
      "image/png": "[encoded data removed]",
      "text/plain": [
       "<Figure size 432x288 with 1 Axes>"
      ]
     },
     "metadata": {
      "needs_background": "light"
     },
     "output_type": "display_data"
    }
   ],
   "source": [
    "sbs.boxplot(y=np.log(df['impresiones']))"
   ]
  },
  {
   "cell_type": "markdown",
   "id": "2cc04dd4",
   "metadata": {},
   "source": [
    "Como puede observarse el resultado es similar. Aquí los valores atípicos aparecen representados como los puntos y vemos que hay tres. Uno de los cuales se encuentra levemente debajo del 6. Verifiquemos el valor con la función exp"
   ]
  },
  {
   "cell_type": "code",
   "execution_count": 10,
   "id": "0e688ccb",
   "metadata": {},
   "outputs": [
    {
     "data": {
      "text/plain": [
       "403.4287934927351"
      ]
     },
     "execution_count": 10,
     "metadata": {},
     "output_type": "execute_result"
    }
   ],
   "source": [
    "np.exp(6)"
   ]
  },
  {
   "cell_type": "code",
   "execution_count": 11,
   "id": "a8e2ee26",
   "metadata": {},
   "outputs": [
    {
     "data": {
      "text/html": [
       "<div>\n",
       "<style scoped>\n",
       "    .dataframe tbody tr th:only-of-type {\n",
       "        vertical-align: middle;\n",
       "    }\n",
       "\n",
       "    .dataframe tbody tr th {\n",
       "        vertical-align: top;\n",
       "    }\n",
       "\n",
       "    .dataframe thead th {\n",
       "        text-align: right;\n",
       "    }\n",
       "</style>\n",
       "<table border=\"1\" class=\"dataframe\">\n",
       "  <thead>\n",
       "    <tr style=\"text-align: right;\">\n",
       "      <th></th>\n",
       "      <th>ID del Tweet</th>\n",
       "      <th>Enlace permanente de Tweet</th>\n",
       "      <th>Texto del Tweet</th>\n",
       "      <th>hora</th>\n",
       "      <th>impresiones</th>\n",
       "      <th>interacciones</th>\n",
       "      <th>tasa de interacción</th>\n",
       "      <th>retweets</th>\n",
       "      <th>respuestas</th>\n",
       "      <th>me gusta</th>\n",
       "      <th>...</th>\n",
       "      <th>clics de etiquetas promocionado</th>\n",
       "      <th>ampliaciones de detalles promocionado</th>\n",
       "      <th>clics en enlaces permanentes promocionado</th>\n",
       "      <th>Se abre la aplicación promocionado</th>\n",
       "      <th>descargas de app promocionado</th>\n",
       "      <th>seguimientos promocionado</th>\n",
       "      <th>enviar Tweet por correo electrónico promocionado</th>\n",
       "      <th>marcar teléfono promocionado</th>\n",
       "      <th>visualizaciones multimedia promocionado</th>\n",
       "      <th>interacciones con el contenido multimedia promocionado</th>\n",
       "    </tr>\n",
       "  </thead>\n",
       "  <tbody>\n",
       "    <tr>\n",
       "      <th>41</th>\n",
       "      <td>1461742522171068419</td>\n",
       "      <td>https://twitter.com/rdvillal/status/1461742522...</td>\n",
       "      <td>@PatriciaLinar16 @AlexiaRivasG1 Para dejar de ...</td>\n",
       "      <td>2021-11-19 17:05 +0000</td>\n",
       "      <td>1361.0</td>\n",
       "      <td>33.0</td>\n",
       "      <td>0.024247</td>\n",
       "      <td>1.0</td>\n",
       "      <td>2.0</td>\n",
       "      <td>10.0</td>\n",
       "      <td>...</td>\n",
       "      <td>-</td>\n",
       "      <td>-</td>\n",
       "      <td>-</td>\n",
       "      <td>-</td>\n",
       "      <td>-</td>\n",
       "      <td>-</td>\n",
       "      <td>-</td>\n",
       "      <td>-</td>\n",
       "      <td>-</td>\n",
       "      <td>-</td>\n",
       "    </tr>\n",
       "    <tr>\n",
       "      <th>51</th>\n",
       "      <td>1461184555856150531</td>\n",
       "      <td>https://twitter.com/rdvillal/status/1461184555...</td>\n",
       "      <td>@La_Grumos @schippers22 Admiro la valentía con...</td>\n",
       "      <td>2021-11-18 04:08 +0000</td>\n",
       "      <td>17448.0</td>\n",
       "      <td>241.0</td>\n",
       "      <td>0.013812</td>\n",
       "      <td>1.0</td>\n",
       "      <td>5.0</td>\n",
       "      <td>144.0</td>\n",
       "      <td>...</td>\n",
       "      <td>-</td>\n",
       "      <td>-</td>\n",
       "      <td>-</td>\n",
       "      <td>-</td>\n",
       "      <td>-</td>\n",
       "      <td>-</td>\n",
       "      <td>-</td>\n",
       "      <td>-</td>\n",
       "      <td>-</td>\n",
       "      <td>-</td>\n",
       "    </tr>\n",
       "  </tbody>\n",
       "</table>\n",
       "<p>2 rows × 40 columns</p>\n",
       "</div>"
      ],
      "text/plain": [
       "           ID del Tweet                         Enlace permanente de Tweet  \\\n",
       "41  1461742522171068419  https://twitter.com/rdvillal/status/1461742522...   \n",
       "51  1461184555856150531  https://twitter.com/rdvillal/status/1461184555...   \n",
       "\n",
       "                                      Texto del Tweet                    hora  \\\n",
       "41  @PatriciaLinar16 @AlexiaRivasG1 Para dejar de ...  2021-11-19 17:05 +0000   \n",
       "51  @La_Grumos @schippers22 Admiro la valentía con...  2021-11-18 04:08 +0000   \n",
       "\n",
       "    impresiones  interacciones  tasa de interacción  retweets  respuestas  \\\n",
       "41       1361.0           33.0             0.024247       1.0         2.0   \n",
       "51      17448.0          241.0             0.013812       1.0         5.0   \n",
       "\n",
       "    me gusta  ...  clics de etiquetas promocionado  \\\n",
       "41      10.0  ...                                -   \n",
       "51     144.0  ...                                -   \n",
       "\n",
       "    ampliaciones de detalles promocionado  \\\n",
       "41                                      -   \n",
       "51                                      -   \n",
       "\n",
       "    clics en enlaces permanentes promocionado  \\\n",
       "41                                          -   \n",
       "51                                          -   \n",
       "\n",
       "    Se abre la aplicación promocionado  descargas de app promocionado  \\\n",
       "41                                   -                              -   \n",
       "51                                   -                              -   \n",
       "\n",
       "    seguimientos promocionado  \\\n",
       "41                          -   \n",
       "51                          -   \n",
       "\n",
       "    enviar Tweet por correo electrónico promocionado  \\\n",
       "41                                                 -   \n",
       "51                                                 -   \n",
       "\n",
       "    marcar teléfono promocionado  visualizaciones multimedia promocionado  \\\n",
       "41                             -                                        -   \n",
       "51                             -                                        -   \n",
       "\n",
       "    interacciones con el contenido multimedia promocionado  \n",
       "41                                                  -       \n",
       "51                                                  -       \n",
       "\n",
       "[2 rows x 40 columns]"
      ]
     },
     "execution_count": 11,
     "metadata": {},
     "output_type": "execute_result"
    }
   ],
   "source": [
    "# ahora filtramos\n",
    "df[df['impresiones']>403]"
   ]
  },
  {
   "cell_type": "code",
   "execution_count": 14,
   "id": "cdb3d2bc",
   "metadata": {},
   "outputs": [
    {
     "data": {
      "text/plain": [
       "244.69193226422038"
      ]
     },
     "execution_count": 14,
     "metadata": {},
     "output_type": "execute_result"
    }
   ],
   "source": [
    "# ya que observamos que aparecen los mismos dos valores probemos con 5.5 (ya que no alcanzamos a ver el punto exacto en la \n",
    "# gráfica, sin embargo se ve que es superior a 5 y por debajo de 6)\n",
    "np.exp(5.5)"
   ]
  },
  {
   "cell_type": "code",
   "execution_count": 15,
   "id": "6a0dca33",
   "metadata": {},
   "outputs": [
    {
     "data": {
      "text/html": [
       "<div>\n",
       "<style scoped>\n",
       "    .dataframe tbody tr th:only-of-type {\n",
       "        vertical-align: middle;\n",
       "    }\n",
       "\n",
       "    .dataframe tbody tr th {\n",
       "        vertical-align: top;\n",
       "    }\n",
       "\n",
       "    .dataframe thead th {\n",
       "        text-align: right;\n",
       "    }\n",
       "</style>\n",
       "<table border=\"1\" class=\"dataframe\">\n",
       "  <thead>\n",
       "    <tr style=\"text-align: right;\">\n",
       "      <th></th>\n",
       "      <th>ID del Tweet</th>\n",
       "      <th>Enlace permanente de Tweet</th>\n",
       "      <th>Texto del Tweet</th>\n",
       "      <th>hora</th>\n",
       "      <th>impresiones</th>\n",
       "      <th>interacciones</th>\n",
       "      <th>tasa de interacción</th>\n",
       "      <th>retweets</th>\n",
       "      <th>respuestas</th>\n",
       "      <th>me gusta</th>\n",
       "      <th>...</th>\n",
       "      <th>clics de etiquetas promocionado</th>\n",
       "      <th>ampliaciones de detalles promocionado</th>\n",
       "      <th>clics en enlaces permanentes promocionado</th>\n",
       "      <th>Se abre la aplicación promocionado</th>\n",
       "      <th>descargas de app promocionado</th>\n",
       "      <th>seguimientos promocionado</th>\n",
       "      <th>enviar Tweet por correo electrónico promocionado</th>\n",
       "      <th>marcar teléfono promocionado</th>\n",
       "      <th>visualizaciones multimedia promocionado</th>\n",
       "      <th>interacciones con el contenido multimedia promocionado</th>\n",
       "    </tr>\n",
       "  </thead>\n",
       "  <tbody>\n",
       "    <tr>\n",
       "      <th>19</th>\n",
       "      <td>1464227551010770949</td>\n",
       "      <td>https://twitter.com/rdvillal/status/1464227551...</td>\n",
       "      <td>@KarenMorenoPala Pero hay que hacer lo que ell...</td>\n",
       "      <td>2021-11-26 13:40 +0000</td>\n",
       "      <td>376.0</td>\n",
       "      <td>1.0</td>\n",
       "      <td>0.002660</td>\n",
       "      <td>0.0</td>\n",
       "      <td>0.0</td>\n",
       "      <td>0.0</td>\n",
       "      <td>...</td>\n",
       "      <td>-</td>\n",
       "      <td>-</td>\n",
       "      <td>-</td>\n",
       "      <td>-</td>\n",
       "      <td>-</td>\n",
       "      <td>-</td>\n",
       "      <td>-</td>\n",
       "      <td>-</td>\n",
       "      <td>-</td>\n",
       "      <td>-</td>\n",
       "    </tr>\n",
       "    <tr>\n",
       "      <th>41</th>\n",
       "      <td>1461742522171068419</td>\n",
       "      <td>https://twitter.com/rdvillal/status/1461742522...</td>\n",
       "      <td>@PatriciaLinar16 @AlexiaRivasG1 Para dejar de ...</td>\n",
       "      <td>2021-11-19 17:05 +0000</td>\n",
       "      <td>1361.0</td>\n",
       "      <td>33.0</td>\n",
       "      <td>0.024247</td>\n",
       "      <td>1.0</td>\n",
       "      <td>2.0</td>\n",
       "      <td>10.0</td>\n",
       "      <td>...</td>\n",
       "      <td>-</td>\n",
       "      <td>-</td>\n",
       "      <td>-</td>\n",
       "      <td>-</td>\n",
       "      <td>-</td>\n",
       "      <td>-</td>\n",
       "      <td>-</td>\n",
       "      <td>-</td>\n",
       "      <td>-</td>\n",
       "      <td>-</td>\n",
       "    </tr>\n",
       "    <tr>\n",
       "      <th>51</th>\n",
       "      <td>1461184555856150531</td>\n",
       "      <td>https://twitter.com/rdvillal/status/1461184555...</td>\n",
       "      <td>@La_Grumos @schippers22 Admiro la valentía con...</td>\n",
       "      <td>2021-11-18 04:08 +0000</td>\n",
       "      <td>17448.0</td>\n",
       "      <td>241.0</td>\n",
       "      <td>0.013812</td>\n",
       "      <td>1.0</td>\n",
       "      <td>5.0</td>\n",
       "      <td>144.0</td>\n",
       "      <td>...</td>\n",
       "      <td>-</td>\n",
       "      <td>-</td>\n",
       "      <td>-</td>\n",
       "      <td>-</td>\n",
       "      <td>-</td>\n",
       "      <td>-</td>\n",
       "      <td>-</td>\n",
       "      <td>-</td>\n",
       "      <td>-</td>\n",
       "      <td>-</td>\n",
       "    </tr>\n",
       "  </tbody>\n",
       "</table>\n",
       "<p>3 rows × 40 columns</p>\n",
       "</div>"
      ],
      "text/plain": [
       "           ID del Tweet                         Enlace permanente de Tweet  \\\n",
       "19  1464227551010770949  https://twitter.com/rdvillal/status/1464227551...   \n",
       "41  1461742522171068419  https://twitter.com/rdvillal/status/1461742522...   \n",
       "51  1461184555856150531  https://twitter.com/rdvillal/status/1461184555...   \n",
       "\n",
       "                                      Texto del Tweet                    hora  \\\n",
       "19  @KarenMorenoPala Pero hay que hacer lo que ell...  2021-11-26 13:40 +0000   \n",
       "41  @PatriciaLinar16 @AlexiaRivasG1 Para dejar de ...  2021-11-19 17:05 +0000   \n",
       "51  @La_Grumos @schippers22 Admiro la valentía con...  2021-11-18 04:08 +0000   \n",
       "\n",
       "    impresiones  interacciones  tasa de interacción  retweets  respuestas  \\\n",
       "19        376.0            1.0             0.002660       0.0         0.0   \n",
       "41       1361.0           33.0             0.024247       1.0         2.0   \n",
       "51      17448.0          241.0             0.013812       1.0         5.0   \n",
       "\n",
       "    me gusta  ...  clics de etiquetas promocionado  \\\n",
       "19       0.0  ...                                -   \n",
       "41      10.0  ...                                -   \n",
       "51     144.0  ...                                -   \n",
       "\n",
       "    ampliaciones de detalles promocionado  \\\n",
       "19                                      -   \n",
       "41                                      -   \n",
       "51                                      -   \n",
       "\n",
       "    clics en enlaces permanentes promocionado  \\\n",
       "19                                          -   \n",
       "41                                          -   \n",
       "51                                          -   \n",
       "\n",
       "    Se abre la aplicación promocionado  descargas de app promocionado  \\\n",
       "19                                   -                              -   \n",
       "41                                   -                              -   \n",
       "51                                   -                              -   \n",
       "\n",
       "    seguimientos promocionado  \\\n",
       "19                          -   \n",
       "41                          -   \n",
       "51                          -   \n",
       "\n",
       "    enviar Tweet por correo electrónico promocionado  \\\n",
       "19                                                 -   \n",
       "41                                                 -   \n",
       "51                                                 -   \n",
       "\n",
       "    marcar teléfono promocionado  visualizaciones multimedia promocionado  \\\n",
       "19                             -                                        -   \n",
       "41                             -                                        -   \n",
       "51                             -                                        -   \n",
       "\n",
       "    interacciones con el contenido multimedia promocionado  \n",
       "19                                                  -       \n",
       "41                                                  -       \n",
       "51                                                  -       \n",
       "\n",
       "[3 rows x 40 columns]"
      ]
     },
     "execution_count": 15,
     "metadata": {},
     "output_type": "execute_result"
    }
   ],
   "source": [
    "# ahora filtramos\n",
    "df[df['impresiones']>244]"
   ]
  },
  {
   "cell_type": "markdown",
   "id": "8073dc8f",
   "metadata": {},
   "source": [
    "De este modo alcanzamos a detectar un nuevo valor atípico: 376. Ahora podemos tomar este dato como un filtro para calcular la media o realizar otros cálculos con nuestros datos evitando que se sesguen, incluso podemos graficar los datos en su escala original pero filtrando estos valores y observaremos importantes diferencias"
   ]
  },
  {
   "cell_type": "code",
   "execution_count": 21,
   "id": "4ea63fcd",
   "metadata": {},
   "outputs": [
    {
     "data": {
      "text/plain": [
       "<AxesSubplot:xlabel='impresiones', ylabel='Count'>"
      ]
     },
     "execution_count": 21,
     "metadata": {},
     "output_type": "execute_result"
    },
    {
     "data": {
      "image/png": "[encoded data removed]",
      "text/plain": [
       "<Figure size 432x288 with 1 Axes>"
      ]
     },
     "metadata": {
      "needs_background": "light"
     },
     "output_type": "display_data"
    }
   ],
   "source": [
    "# Por ejemplo graficando el histograma pero filtrando los valores por debajo de 376 que es el menor de los valores atípicos \n",
    "# encontrados previamente\n",
    "\n",
    "sbs.histplot(data=df[df['impresiones']<376.0], x='impresiones')"
   ]
  },
  {
   "cell_type": "code",
   "execution_count": 22,
   "id": "830142d1",
   "metadata": {},
   "outputs": [
    {
     "data": {
      "text/plain": [
       "<AxesSubplot:ylabel='impresiones'>"
      ]
     },
     "execution_count": 22,
     "metadata": {},
     "output_type": "execute_result"
    },
    {
     "data": {
      "image/png": "[encoded data removed]",
      "text/plain": [
       "<Figure size 432x288 with 1 Axes>"
      ]
     },
     "metadata": {
      "needs_background": "light"
     },
     "output_type": "display_data"
    }
   ],
   "source": [
    "# También podemos aplicarlo al boxplot. En este caso incluso observaremos que se calcularán nuevos valores atípicos en el \n",
    "# nuevo rango que se ha delimitado\n",
    "\n",
    "sbs.boxplot(data=df[df['impresiones']<376.0], y='impresiones')"
   ]
  },
  {
   "cell_type": "code",
   "execution_count": null,
   "id": "b260df8d",
   "metadata": {},
   "outputs": [],
   "source": []
  }
 ],
 "metadata": {
  "kernelspec": {
   "display_name": "Python 3 (ipykernel)",
   "language": "python",
   "name": "python3"
  },
  "language_info": {
   "codemirror_mode": {
    "name": "ipython",
    "version": 3
   },
   "file_extension": ".py",
   "mimetype": "text/x-python",
   "name": "python",
   "nbconvert_exporter": "python",
   "pygments_lexer": "ipython3",
   "version": "3.9.7"
  }
 },
 "nbformat": 4,
 "nbformat_minor": 5
}
